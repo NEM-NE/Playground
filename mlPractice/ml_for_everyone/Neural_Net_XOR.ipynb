{
 "cells": [
  {
   "cell_type": "code",
   "execution_count": 101,
   "id": "efff026e",
   "metadata": {},
   "outputs": [
    {
     "name": "stdout",
     "output_type": "stream",
     "text": [
      "2.8.0\n"
     ]
    }
   ],
   "source": [
    "import tensorflow as tf\n",
    "import matplotlib.pyplot as plt\n",
    "%matplotlib inline\n",
    "print(tf.__version__)"
   ]
  },
  {
   "cell_type": "code",
   "execution_count": 102,
   "id": "bbc8656f",
   "metadata": {
    "scrolled": false
   },
   "outputs": [
    {
     "data": {
      "image/png": "[encoded data removed]",
      "text/plain": [
       "<Figure size 432x288 with 1 Axes>"
      ]
     },
     "metadata": {
      "needs_background": "light"
     },
     "output_type": "display_data"
    }
   ],
   "source": [
    "x_data = tf.constant([[0, 0],\n",
    "          [0, 1],\n",
    "          [1, 0],\n",
    "          [1, 1]], dtype=tf.float32)\n",
    "y_data = tf.constant([[0],\n",
    "          [1],\n",
    "          [1],\n",
    "          [0]], dtype=tf.float32)\n",
    "\n",
    "plt.scatter(x_data[0][0],x_data[0][1], c='red' , marker='^')\n",
    "plt.scatter(x_data[3][0],x_data[3][1], c='red' , marker='^')\n",
    "plt.scatter(x_data[1][0],x_data[1][1], c='blue' , marker='^')\n",
    "plt.scatter(x_data[2][0],x_data[2][1], c='blue' , marker='^')\n",
    "\n",
    "plt.xlabel(\"x1\")\n",
    "plt.ylabel(\"x2\")\n",
    "plt.show()"
   ]
  },
  {
   "cell_type": "code",
   "execution_count": 103,
   "id": "54cebd01",
   "metadata": {},
   "outputs": [],
   "source": [
    "W1 = tf.Variable(tf.random.normal((2, 1)), name='weight1')\n",
    "b1 = tf.Variable(tf.random.normal((1,)), name='bias1')\n",
    "\n",
    "W2 = tf.Variable(tf.random.normal((2, 1)), name='weight2')\n",
    "b2 = tf.Variable(tf.random.normal((1,)), name='bias2')\n",
    "\n",
    "W3 = tf.Variable(tf.random.normal((2, 1)), name='weight3')\n",
    "b3 = tf.Variable(tf.random.normal((1,)), name='bias3')"
   ]
  },
  {
   "cell_type": "code",
   "execution_count": 105,
   "id": "57b9e77f",
   "metadata": {},
   "outputs": [],
   "source": [
    "# create hypothesis\n",
    "def neural_net(features):\n",
    "    layer1 = tf.sigmoid(tf.matmul(features, W1) + b1)\n",
    "    layer2 = tf.sigmoid(tf.matmul(features, W2) + b2)\n",
    "#     layer3 = tf.concat([layer1, layer2],-1)\n",
    "#     layer3 = tf.reshape(layer3, shape = [-1,2])\n",
    "    hypothesis = tf.sigmoid(tf.matmul(tf.concat([layer1, layer2], 1), W3) + b3)\n",
    "    return hypothesis\n",
    "    \n",
    "# get loss\n",
    "def loss_fn(hypothesis, labels):\n",
    "    cost = -labels*(tf.math.log(hypothesis))-(1-labels)*tf.math.log(1 - hypothesis)\n",
    "    cost_mean = tf.reduce_mean(cost)\n",
    "    return cost_mean\n",
    "\n",
    "optimizer = tf.keras.optimizers.SGD(learning_rate=0.01)\n",
    "\n",
    "# cut value by decision boundary\n",
    "def accuracy_fn(hypothesis, labels):\n",
    "    predicted = tf.cast(hypothesis > 0.5, dtype=tf.float32)\n",
    "    accuracy = tf.reduce_mean(tf.cast(tf.equal(predicted, labels), dtype=tf.float32))\n",
    "    return accuracy\n",
    "\n",
    "# get hypothesis\n",
    "def grad(features, labels):\n",
    "    with tf.GradientTape() as tape:\n",
    "        loss_value = loss_fn(neural_net(features),labels)\n",
    "    return tape.gradient(loss_value, [W1, W2, W3, b1, b2, b3])\n"
   ]
  },
  {
   "cell_type": "code",
   "execution_count": 108,
   "id": "1108a58d",
   "metadata": {
    "scrolled": false
   },
   "outputs": [
    {
     "name": "stdout",
     "output_type": "stream",
     "text": [
      "Iter: 0, Loss: 0.6896\n",
      "Iter: 500, Loss: 0.6892\n",
      "Iter: 1000, Loss: 0.6887\n",
      "Iter: 1500, Loss: 0.6882\n",
      "Iter: 2000, Loss: 0.6876\n",
      "Iter: 2500, Loss: 0.6870\n",
      "Iter: 3000, Loss: 0.6862\n",
      "Iter: 3500, Loss: 0.6854\n",
      "Iter: 4000, Loss: 0.6845\n",
      "Iter: 4500, Loss: 0.6834\n",
      "Iter: 5000, Loss: 0.6822\n",
      "Iter: 5500, Loss: 0.6809\n",
      "Iter: 6000, Loss: 0.6794\n",
      "Iter: 6500, Loss: 0.6777\n",
      "Iter: 7000, Loss: 0.6759\n",
      "Iter: 7500, Loss: 0.6738\n",
      "Iter: 8000, Loss: 0.6715\n",
      "Iter: 8500, Loss: 0.6689\n",
      "Iter: 9000, Loss: 0.6661\n",
      "Iter: 9500, Loss: 0.6630\n",
      "Iter: 10000, Loss: 0.6596\n",
      "Iter: 10500, Loss: 0.6559\n",
      "Iter: 11000, Loss: 0.6519\n",
      "Iter: 11500, Loss: 0.6476\n",
      "Iter: 12000, Loss: 0.6430\n",
      "Iter: 12500, Loss: 0.6381\n",
      "Iter: 13000, Loss: 0.6330\n",
      "Iter: 13500, Loss: 0.6276\n",
      "Iter: 14000, Loss: 0.6221\n",
      "Iter: 14500, Loss: 0.6165\n",
      "Iter: 15000, Loss: 0.6108\n",
      "Iter: 15500, Loss: 0.6051\n",
      "Iter: 16000, Loss: 0.5995\n",
      "Iter: 16500, Loss: 0.5939\n",
      "Iter: 17000, Loss: 0.5885\n",
      "Iter: 17500, Loss: 0.5832\n",
      "Iter: 18000, Loss: 0.5781\n",
      "Iter: 18500, Loss: 0.5733\n",
      "Iter: 19000, Loss: 0.5686\n",
      "Iter: 19500, Loss: 0.5642\n",
      "Iter: 20000, Loss: 0.5600\n",
      "Iter: 20500, Loss: 0.5561\n",
      "Iter: 21000, Loss: 0.5523\n",
      "Iter: 21500, Loss: 0.5488\n",
      "Iter: 22000, Loss: 0.5455\n",
      "Iter: 22500, Loss: 0.5423\n",
      "Iter: 23000, Loss: 0.5393\n",
      "Iter: 23500, Loss: 0.5365\n",
      "Iter: 24000, Loss: 0.5338\n",
      "Iter: 24500, Loss: 0.5313\n",
      "Iter: 25000, Loss: 0.5289\n",
      "Iter: 25500, Loss: 0.5266\n",
      "Iter: 26000, Loss: 0.5244\n",
      "Iter: 26500, Loss: 0.5223\n",
      "Iter: 27000, Loss: 0.5202\n",
      "Iter: 27500, Loss: 0.5183\n",
      "Iter: 28000, Loss: 0.5164\n",
      "Iter: 28500, Loss: 0.5145\n",
      "Iter: 29000, Loss: 0.5127\n",
      "Iter: 29500, Loss: 0.5110\n",
      "Iter: 30000, Loss: 0.5092\n",
      "Iter: 30500, Loss: 0.5075\n",
      "Iter: 31000, Loss: 0.5058\n",
      "Iter: 31500, Loss: 0.5041\n",
      "Iter: 32000, Loss: 0.5023\n",
      "Iter: 32500, Loss: 0.5006\n",
      "Iter: 33000, Loss: 0.4988\n",
      "Iter: 33500, Loss: 0.4970\n",
      "Iter: 34000, Loss: 0.4952\n",
      "Iter: 34500, Loss: 0.4933\n",
      "Iter: 35000, Loss: 0.4913\n",
      "Iter: 35500, Loss: 0.4893\n",
      "Iter: 36000, Loss: 0.4871\n",
      "Iter: 36500, Loss: 0.4849\n",
      "Iter: 37000, Loss: 0.4826\n",
      "Iter: 37500, Loss: 0.4801\n",
      "Iter: 38000, Loss: 0.4775\n",
      "Iter: 38500, Loss: 0.4747\n",
      "Iter: 39000, Loss: 0.4718\n",
      "Iter: 39500, Loss: 0.4687\n",
      "Iter: 40000, Loss: 0.4655\n",
      "Iter: 40500, Loss: 0.4621\n",
      "Iter: 41000, Loss: 0.4585\n",
      "Iter: 41500, Loss: 0.4547\n",
      "Iter: 42000, Loss: 0.4506\n",
      "Iter: 42500, Loss: 0.4463\n",
      "Iter: 43000, Loss: 0.4417\n",
      "Iter: 43500, Loss: 0.4368\n",
      "Iter: 44000, Loss: 0.4313\n",
      "Iter: 44500, Loss: 0.4252\n",
      "Iter: 45000, Loss: 0.4182\n",
      "Iter: 45500, Loss: 0.4103\n",
      "Iter: 46000, Loss: 0.4010\n",
      "Iter: 46500, Loss: 0.3902\n",
      "Iter: 47000, Loss: 0.3778\n",
      "Iter: 47500, Loss: 0.3639\n",
      "Iter: 48000, Loss: 0.3487\n",
      "Iter: 48500, Loss: 0.3328\n",
      "Iter: 49000, Loss: 0.3165\n",
      "Iter: 49500, Loss: 0.3002\n",
      "Testset Accuracy: 1.0000\n"
     ]
    }
   ],
   "source": [
    "EPOCHS = 50000\n",
    "\n",
    "for i in range(EPOCHS):\n",
    "    gradients = grad(x_data, y_data)\n",
    "    optimizer.apply_gradients(grads_and_vars=zip(gradients,[W1, W2, W3, b1, b2, b3]))\n",
    "    if i % 500 == 0:\n",
    "        print(\"Iter: {}, Loss: {:.4f}\".format(i, loss_fn(neural_net(x_data),y_data)))\n",
    "            \n",
    "test_acc = accuracy_fn(neural_net(x_data),y_data)\n",
    "print(\"Testset Accuracy: {:.4f}\".format(test_acc))"
   ]
  }
 ],
 "metadata": {
  "kernelspec": {
   "display_name": "ml_for_everyone",
   "language": "python",
   "name": "ml_for_everyone"
  },
  "language_info": {
   "codemirror_mode": {
    "name": "ipython",
    "version": 3
   },
   "file_extension": ".py",
   "mimetype": "text/x-python",
   "name": "python",
   "nbconvert_exporter": "python",
   "pygments_lexer": "ipython3",
   "version": "3.9.12"
  }
 },
 "nbformat": 4,
 "nbformat_minor": 5
}
