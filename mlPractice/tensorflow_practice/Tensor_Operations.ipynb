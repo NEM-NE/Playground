{
 "cells": [
  {
   "cell_type": "code",
   "execution_count": 1,
   "id": "dbb61b7a",
   "metadata": {},
   "outputs": [
    {
     "name": "stdout",
     "output_type": "stream",
     "text": [
      "2.8.0\n"
     ]
    }
   ],
   "source": [
    "import tensorflow as tf\n",
    "import numpy as np\n",
    "\n",
    "print(tf.__version__)"
   ]
  },
  {
   "cell_type": "code",
   "execution_count": 6,
   "id": "28a0151d",
   "metadata": {},
   "outputs": [
    {
     "name": "stdout",
     "output_type": "stream",
     "text": [
      "tf.Tensor([11 22 33], shape=(3,), dtype=int32)\n",
      "tf.Tensor([ -9 -18 -27], shape=(3,), dtype=int32)\n",
      "tf.Tensor([10 40 90], shape=(3,), dtype=int32)\n",
      "tf.Tensor([0.1 0.1 0.1], shape=(3,), dtype=float64)\n",
      "tf.Tensor([0 0 0], shape=(3,), dtype=int32)\n",
      "[1, 2, 3, 10, 20, 30]\n"
     ]
    }
   ],
   "source": [
    "# tensor의 연산\n",
    "t1 = tf.constant([1, 2, 3])\n",
    "t2 = tf.constant([10, 20, 30])\n",
    "\n",
    "print(t1 + t2)\n",
    "print(t1 - t2)\n",
    "print(t1 * t2)\n",
    "print(t1 / t2)\n",
    "print(t1 // t2)\n",
    "\n",
    "t1 = [1, 2, 3]\n",
    "t2 = [10, 20, 30]\n",
    "\n",
    "print(t1 + t2)\n",
    "# print(t1 - t2) 에러\n",
    "# print(t1 * t2) 에러\n",
    "# print(t1 / t2) 에러\n",
    "# print(t1 // t2) 에러"
   ]
  },
  {
   "cell_type": "code",
   "execution_count": 14,
   "id": "2816fdb9",
   "metadata": {},
   "outputs": [
    {
     "name": "stdout",
     "output_type": "stream",
     "text": [
      "[[-5 -7  3 -3]\n",
      " [ 0 12 -4  0]\n",
      " [ 0  2 -1 -4]] \n",
      "\n",
      "[[-5]\n",
      " [-3]\n",
      " [-6]] \n",
      "\n",
      "[[-10 -12  -2  -8]\n",
      " [ -3   9  -7  -3]\n",
      " [ -6  -4  -7 -10]] \n",
      "\n"
     ]
    }
   ],
   "source": [
    "# 데이터 타입 변환하기\n",
    "t1 = tf.random.normal(shape=(3, 4), mean=0, stddev=5)\n",
    "t2 = tf.random.normal(shape=(3, 1), mean=0, stddev=5) # 행이 안맞을 경우 기존 행을 확장한다., 단 변경할 수 없는 구조이면 에러 발생\n",
    "\n",
    "t1 = tf.cast(t1, dtype=tf.int16)\n",
    "t2 = tf.cast(t2, dtype=tf.int16)\n",
    "\n",
    "t3 = t1 + t2\n",
    "\n",
    "print(t1.numpy(), '\\n') # numpy로 변경하면 더 깔끔하게 볼 수 있다\n",
    "print(t2.numpy(), '\\n')\n",
    "print(t3.numpy(), '\\n')"
   ]
  },
  {
   "cell_type": "code",
   "execution_count": 33,
   "id": "4f5719fb",
   "metadata": {},
   "outputs": [
    {
     "name": "stdout",
     "output_type": "stream",
     "text": [
      "[[ 0  2 -2 -2]\n",
      " [ 3  7 -3  4]\n",
      " [ 1 -3 -9 -3]]\n",
      "-5 \n",
      "\n",
      "[[ 0  2 -2 -2]\n",
      " [ 3  7 -3  4]\n",
      " [ 1 -3 -9 -3]]\n",
      "[2 7 1]\n"
     ]
    }
   ],
   "source": [
    "# 셀을 조작함수\n",
    "t1 = tf.random.normal(shape=(3, 4), mean=0, stddev=5)\n",
    "t1 = tf.cast(t1, dtype=tf.int16)\n",
    "\n",
    "# tf.reduce_sum -> 합\n",
    "# tf.reduce_prod -> 곱\n",
    "\n",
    "# tf.reduce_max -> (축 내에서) 최대\n",
    "# tf.reduce_min -> 최소\n",
    "\n",
    "# tf.reduce_mean -> 평균\n",
    "# tf.reduce_std -> 표준 편차\n",
    "# tf.reduce_variance -> 분산(float타입)\n",
    "\n",
    "# tf.reduce_all -> 논리연산 AND\n",
    "# tf.reduce_any -> 논리연산 OR\n",
    "\n",
    "t2 = tf.reduce_sum(t1)\n",
    "print(t1.numpy())\n",
    "print(t2.numpy(), '\\n')\n",
    "\n",
    "#특정 축을 기준으로 합을 구하고 싶을 때 \n",
    "# axis = 0 -> 세로축, axis = 1 -> 가로축을 의미하고 reduce_sum에 넣는다는 것은 해당 축에 대한 합을 구하겠다는 것\n",
    "t2 = tf.reduce_max(t1, axis=1)\n",
    "print(t1.numpy())\n",
    "print(t2.numpy())\n"
   ]
  },
  {
   "cell_type": "code",
   "execution_count": null,
   "id": "ab40d009",
   "metadata": {},
   "outputs": [],
   "source": []
  }
 ],
 "metadata": {
  "kernelspec": {
   "display_name": "ml_for_everyone",
   "language": "python",
   "name": "ml_for_everyone"
  },
  "language_info": {
   "codemirror_mode": {
    "name": "ipython",
    "version": 3
   },
   "file_extension": ".py",
   "mimetype": "text/x-python",
   "name": "python",
   "nbconvert_exporter": "python",
   "pygments_lexer": "ipython3",
   "version": "3.9.12"
  }
 },
 "nbformat": 4,
 "nbformat_minor": 5
}
