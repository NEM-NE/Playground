{
 "cells": [
  {
   "cell_type": "code",
   "execution_count": 1,
   "id": "20bc6a05-8f8c-4883-8c8f-4aed065b0406",
   "metadata": {},
   "outputs": [
    {
     "name": "stdout",
     "output_type": "stream",
     "text": [
      "2.8.0\n"
     ]
    }
   ],
   "source": [
    "import numpy as np\n",
    "import tensorflow as tf\n",
    "import matplotlib.pyplot as plt\n",
    "\n",
    "print(tf.__version__)"
   ]
  },
  {
   "cell_type": "code",
   "execution_count": 7,
   "id": "27996318-6381-4c3f-82d4-f86ff7d83d79",
   "metadata": {},
   "outputs": [],
   "source": [
    "def normalization(data):\n",
    "    numerator = data - np.min(data, 0) # axis = 0 -> 열 단위로\n",
    "    denominator = np.max(data, 0) - np.min(data, 0)\n",
    "    return numerator / denominator"
   ]
  },
  {
   "cell_type": "code",
   "execution_count": 8,
   "id": "0fa261f6-fa2b-4c6e-b33c-a8bdb6e7c9a9",
   "metadata": {},
   "outputs": [
    {
     "data": {
      "image/png": "[encoded data removed]",
      "text/plain": [
       "<Figure size 432x288 with 1 Axes>"
      ]
     },
     "metadata": {
      "needs_background": "light"
     },
     "output_type": "display_data"
    }
   ],
   "source": [
    "xy = np.array([[828.659973, 833.450012, 908100, 828.349976, 831.659973],\n",
    "               [823.02002, 828.070007, 1828100, 821.655029, 828.070007],\n",
    "               [819.929993, 824.400024, 1438100, 818.97998, 824.159973],\n",
    "               [816, 820.958984, 1008100, 815.48999, 819.23999],\n",
    "               [819.359985, 823, 1188100, 818.469971, 818.97998],\n",
    "               [819, 823, 1198100, 816, 820.450012],\n",
    "               [811.700012, 815.25, 1098100, 809.780029, 813.669983],\n",
    "               [809.51001, 816.659973, 1398100, 804.539978, 809.559998]])\n",
    "\n",
    "x_train = xy[:, 0:-1]\n",
    "y_train = xy[:, [-1]]\n",
    "\n",
    "plt.plot(x_train, 'ro')\n",
    "plt.plot(y_train)\n",
    "plt.show()"
   ]
  },
  {
   "cell_type": "code",
   "execution_count": 9,
   "id": "6e8214ca-7a70-4e4b-b0a8-41ab25115fb5",
   "metadata": {},
   "outputs": [
    {
     "data": {
      "image/png": "[encoded data removed]",
      "text/plain": [
       "<Figure size 432x288 with 1 Axes>"
      ]
     },
     "metadata": {
      "needs_background": "light"
     },
     "output_type": "display_data"
    }
   ],
   "source": [
    "xy = normalization(xy)\n",
    "\n",
    "x_train = xy[:, 0:-1]\n",
    "y_train = xy[:, [-1]]\n",
    "\n",
    "plt.plot(x_train, 'ro')\n",
    "plt.plot(y_train)\n",
    "plt.show()"
   ]
  },
  {
   "cell_type": "code",
   "execution_count": 10,
   "id": "9db8297d-0f28-4e73-a998-94500540e7df",
   "metadata": {},
   "outputs": [
    {
     "name": "stdout",
     "output_type": "stream",
     "text": [
      "Metal device set to: Apple M1\n"
     ]
    },
    {
     "name": "stderr",
     "output_type": "stream",
     "text": [
      "2022-05-17 01:09:52.295523: I tensorflow/core/common_runtime/pluggable_device/pluggable_device_factory.cc:305] Could not identify NUMA node of platform GPU ID 0, defaulting to 0. Your kernel may not have been built with NUMA support.\n",
      "2022-05-17 01:09:52.296472: I tensorflow/core/common_runtime/pluggable_device/pluggable_device_factory.cc:271] Created TensorFlow device (/job:localhost/replica:0/task:0/device:GPU:0 with 0 MB memory) -> physical PluggableDevice (device: 0, name: METAL, pci bus id: <undefined>)\n"
     ]
    }
   ],
   "source": [
    "# tensors로 변경해준다.\n",
    "dataset = tf.data.Dataset.from_tensor_slices((x_train, y_train)).batch(len(x_train))\n",
    "\n",
    "W = tf.Variable(tf.random.normal((4, 1)), dtype=tf.float32)\n",
    "b = tf.Variable(tf.random.normal((1,)), dtype=tf.float32)"
   ]
  },
  {
   "cell_type": "code",
   "execution_count": 11,
   "id": "49468999-58a6-4457-8b23-0761a0332909",
   "metadata": {},
   "outputs": [],
   "source": [
    "def linerReg_fn(features):\n",
    "    hypothesis = tf.matmul(features, W) + b\n",
    "    return hypothesis"
   ]
  },
  {
   "cell_type": "code",
   "execution_count": 12,
   "id": "22a59489-f4a4-4aa4-a074-58ee46d282c8",
   "metadata": {},
   "outputs": [],
   "source": [
    "# regularzation\n",
    "def l2_loss(loss, beta = 0.01):\n",
    "    W_reg = tf.nn.l2_loss(W)\n",
    "    loss = tf.reduce_mean(loss + W_reg * beta)\n",
    "    return loss"
   ]
  },
  {
   "cell_type": "code",
   "execution_count": 17,
   "id": "8ab34dbb-333f-4a51-8051-d72e21bef998",
   "metadata": {},
   "outputs": [],
   "source": [
    "def loss_fn(hypothesis, features, labels, flag = False):\n",
    "    cost = tf.reduce_mean(tf.square(hypothesis - labels))\n",
    "    if(flag):\n",
    "        cost = l2_loss(cost)\n",
    "    return cost"
   ]
  },
  {
   "cell_type": "code",
   "execution_count": 14,
   "id": "aa2fef85-1cd5-4838-8f80-518ab3df98d1",
   "metadata": {},
   "outputs": [],
   "source": [
    "is_decay = True\n",
    "starter_learning_rate = 0.1\n",
    "\n",
    "if(is_decay):\n",
    "    learning_rate = tf.keras.optimizers.schedules.ExponentialDecay(initial_learning_rate=starter_learning_rate,\n",
    "                                                                   decay_steps=50,\n",
    "                                                                   decay_rate=0.96)\n",
    "    optimizer = tf.keras.optimizers.SGD(learning_rate)\n",
    "else:\n",
    "    optimizer = tf.keras.optimizers.SGD(learning_rate=starter_learning_rate)\n",
    "    \n"
   ]
  },
  {
   "cell_type": "code",
   "execution_count": 15,
   "id": "ffad5628-514e-42aa-a39d-8aaf27032f54",
   "metadata": {},
   "outputs": [],
   "source": [
    "def grad(hypothesis, features, labels, l2_flag):\n",
    "    with tf.GradientTape() as tape:\n",
    "        loss_value = loss_fn(linerReg_fn(features), features, labels, l2_flag)\n",
    "    return tape.gradient(loss_value, [W, b]), loss_value"
   ]
  },
  {
   "cell_type": "code",
   "execution_count": 19,
   "id": "1ee3207c-6519-46c1-b578-3cff79b066d0",
   "metadata": {},
   "outputs": [
    {
     "name": "stdout",
     "output_type": "stream",
     "text": [
      "Iter: 0, Loss: 1.8301\n",
      "Iter: 10, Loss: 0.0072\n",
      "Iter: 20, Loss: 0.0063\n",
      "Iter: 30, Loss: 0.0058\n",
      "Iter: 40, Loss: 0.0055\n",
      "Iter: 50, Loss: 0.0053\n",
      "Iter: 60, Loss: 0.0052\n",
      "Iter: 70, Loss: 0.0051\n",
      "Iter: 80, Loss: 0.0050\n",
      "Iter: 90, Loss: 0.0049\n",
      "Iter: 100, Loss: 0.0049\n"
     ]
    }
   ],
   "source": [
    "EPOCHS = 101\n",
    "\n",
    "for step in range(EPOCHS):\n",
    "    for features, labels in dataset:\n",
    "        features = tf.cast(features, tf.float32)\n",
    "        labels = tf.cast(labels, tf.float32)\n",
    "        grads, loss_value = grad(linerReg_fn(features), features, labels, False)\n",
    "        optimizer.apply_gradients(grads_and_vars=zip(grads, [W,b]))\n",
    "    if step % 10 == 0:\n",
    "        print(\"Iter: {}, Loss: {:.4f}\".format(step, loss_value))"
   ]
  }
 ],
 "metadata": {
  "kernelspec": {
   "display_name": "ml_for_everyone",
   "language": "python",
   "name": "ml_for_everyone"
  },
  "language_info": {
   "codemirror_mode": {
    "name": "ipython",
    "version": 3
   },
   "file_extension": ".py",
   "mimetype": "text/x-python",
   "name": "python",
   "nbconvert_exporter": "python",
   "pygments_lexer": "ipython3",
   "version": "3.9.12"
  }
 },
 "nbformat": 4,
 "nbformat_minor": 5
}
