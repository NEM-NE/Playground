{
 "cells": [
  {
   "cell_type": "code",
   "execution_count": 1,
   "id": "feaa26b5",
   "metadata": {},
   "outputs": [
    {
     "name": "stdout",
     "output_type": "stream",
     "text": [
      "2.8.0\n"
     ]
    }
   ],
   "source": [
    "import tensorflow as tf\n",
    "import numpy as np\n",
    "print(tf.__version__)"
   ]
  },
  {
   "cell_type": "code",
   "execution_count": 18,
   "id": "aab5c51a",
   "metadata": {},
   "outputs": [],
   "source": [
    "x_data = tf.constant([[1, 2, 1, 1],\n",
    "          [2, 1, 3, 2],\n",
    "          [3, 1, 3, 4],\n",
    "          [4, 1, 5, 5],\n",
    "          [1, 7, 5, 5],\n",
    "          [1, 2, 5, 6],\n",
    "          [1, 6, 6, 6],\n",
    "          [1, 7, 7, 7]], dtype=tf.float32)\n",
    "y_data = tf.constant([[0, 0, 1],\n",
    "          [0, 0, 1],\n",
    "          [0, 0, 1],\n",
    "          [0, 1, 0],\n",
    "          [0, 1, 0],\n",
    "          [0, 1, 0],\n",
    "          [1, 0, 0],\n",
    "          [1, 0, 0]], dtype=tf.float32)"
   ]
  },
  {
   "cell_type": "code",
   "execution_count": 19,
   "id": "bd665195",
   "metadata": {},
   "outputs": [
    {
     "name": "stdout",
     "output_type": "stream",
     "text": [
      "(8, 4)\n",
      "(8, 3)\n"
     ]
    }
   ],
   "source": [
    "nb_classes = 3 #class의 개수입니다.\n",
    "\n",
    "print(x_data.shape)\n",
    "print(y_data.shape)"
   ]
  },
  {
   "cell_type": "code",
   "execution_count": 20,
   "id": "7963b80d",
   "metadata": {
    "scrolled": true
   },
   "outputs": [
    {
     "name": "stdout",
     "output_type": "stream",
     "text": [
      "<tf.Variable 'weight:0' shape=(4, 3) dtype=float32, numpy=\n",
      "array([[-1.2838469 , -1.1120201 , -1.1682403 ],\n",
      "       [-0.02682939, -1.2233621 ,  0.9378554 ],\n",
      "       [-1.259596  , -2.262079  ,  0.72499883],\n",
      "       [ 0.28997898, -0.27300495, -2.026413  ]], dtype=float32)> <tf.Variable 'bias:0' shape=(3,) dtype=float32, numpy=array([-0.27028295, -0.45455965, -0.08970138], dtype=float32)>\n"
     ]
    }
   ],
   "source": [
    "#Weight and bias setting\n",
    "W = tf.Variable(tf.random.normal((4, nb_classes)), name='weight')\n",
    "b = tf.Variable(tf.random.normal((nb_classes,)), name='bias')\n",
    "variables = [W, b]\n",
    "\n",
    "print(W,b)"
   ]
  },
  {
   "cell_type": "code",
   "execution_count": 21,
   "id": "f91e92d7",
   "metadata": {},
   "outputs": [],
   "source": [
    "def hypothesis(features):\n",
    "    X = tf.matmul(features, W)\n",
    "    # softmax -> tf.nn.softmax(X + b)\n",
    "    # tf.reduce_sum(tf.exp(X+b), keepdims=True, axis=1) -> tf.exp(X+b)행렬의 가로축에 대해 합을 구한다 / keepdims=True -> 행렬의 차원을 유지한다\n",
    "    result = tf.divide(tf.exp(X+b), tf.reduce_sum(tf.exp(X+b), keepdims=True, axis=1))\n",
    "    \n",
    "    return result"
   ]
  },
  {
   "cell_type": "code",
   "execution_count": 22,
   "id": "5cdfedb5",
   "metadata": {},
   "outputs": [],
   "source": [
    "# cross-entropy\n",
    "def cost_fn(x, y):\n",
    "    logits = hypothesis(x)\n",
    "    cost = -tf.reduce_sum(y * tf.math.log(logits))\n",
    "    cost_mean = tf.reduce_mean(cost)\n",
    "    \n",
    "    return cost_mean"
   ]
  },
  {
   "cell_type": "code",
   "execution_count": 23,
   "id": "fc4d206f",
   "metadata": {},
   "outputs": [],
   "source": [
    "def grad_fn(X, Y):\n",
    "    with tf.GradientTape() as tape:\n",
    "        loss = cost_fn(X, Y)\n",
    "    \n",
    "    grads = tape.gradient(loss, [W, b])\n",
    "        \n",
    "    return grads"
   ]
  },
  {
   "cell_type": "code",
   "execution_count": 24,
   "id": "82a5ddd8",
   "metadata": {
    "scrolled": true
   },
   "outputs": [
    {
     "name": "stdout",
     "output_type": "stream",
     "text": [
      "Loss at epoch 1: 51.559467\n",
      "Loss at epoch 100: 80.505074\n",
      "Loss at epoch 200: 80.402649\n",
      "Loss at epoch 300: 56.206383\n",
      "Loss at epoch 400: 70.501694\n",
      "Loss at epoch 500: 7.710432\n",
      "Loss at epoch 600: 12.445446\n",
      "Loss at epoch 700: 39.128941\n",
      "Loss at epoch 800: 56.990528\n",
      "Loss at epoch 900: 45.193378\n",
      "Loss at epoch 1000: 0.026957\n"
     ]
    }
   ],
   "source": [
    "def fit(X, Y, epochs=1000, verbose=100):\n",
    "    optimizer = tf.keras.optimizers.SGD(learning_rate=0.1)\n",
    "    \n",
    "    for i in range(epochs):\n",
    "        optimizer.apply_gradients(zip(grad_fn(X, Y), [W, b]))\n",
    "        if(i==0) | ((i+1)%verbose == 0):\n",
    "             print('Loss at epoch %d: %f' %(i+1, cost_fn(X, Y).numpy()))\n",
    "fit(x_data, y_data)"
   ]
  },
  {
   "cell_type": "code",
   "execution_count": 25,
   "id": "0ba6eb64",
   "metadata": {},
   "outputs": [
    {
     "name": "stdout",
     "output_type": "stream",
     "text": [
      "tf.Tensor([[6.561945e-13 1.349348e-03 9.986507e-01]], shape=(1, 3), dtype=float32)\n",
      "tf.Tensor([2], shape=(1,), dtype=int64)\n"
     ]
    }
   ],
   "source": [
    "sample_data = [[2,1,3,2]] # answer_label [[0,0,1]]\n",
    "sample_data = np.asarray(sample_data, dtype=np.float32)\n",
    "\n",
    "a = hypothesis(sample_data)\n",
    "\n",
    "print(a)\n",
    "# tf.argmax -> 배열에서 가장 큰 값을 가진 인덱스 값 반환\n",
    "print(tf.argmax(a, 1)) #index: 2"
   ]
  },
  {
   "cell_type": "code",
   "execution_count": 26,
   "id": "d229ff8b",
   "metadata": {},
   "outputs": [
    {
     "name": "stdout",
     "output_type": "stream",
     "text": [
      "tf.Tensor(\n",
      "[[2.39373876e-25 5.75330148e-12 1.00000000e+00]\n",
      " [6.56194500e-13 1.34934799e-03 9.98650730e-01]\n",
      " [4.02004181e-36 2.28441739e-03 9.97715592e-01]\n",
      " [6.74858040e-30 9.99827266e-01 1.72801578e-04]\n",
      " [1.06920451e-02 9.87427592e-01 1.88037404e-03]\n",
      " [5.64331344e-07 9.99999404e-01 3.38681825e-15]\n",
      " [9.89571393e-01 1.04286745e-02 2.39589707e-13]\n",
      " [9.99988914e-01 1.11672180e-05 2.67333691e-20]], shape=(8, 3), dtype=float32)\n",
      "tf.Tensor([2 2 2 1 1 1 0 0], shape=(8,), dtype=int64)\n",
      "tf.Tensor([2 2 2 1 1 1 0 0], shape=(8,), dtype=int64)\n"
     ]
    }
   ],
   "source": [
    "b = hypothesis(x_data)\n",
    "print(b)\n",
    "print(tf.argmax(b, 1))\n",
    "print(tf.argmax(y_data, 1)) # matches with y_data"
   ]
  }
 ],
 "metadata": {
  "kernelspec": {
   "display_name": "ml_for_everyone",
   "language": "python",
   "name": "ml_for_everyone"
  },
  "language_info": {
   "codemirror_mode": {
    "name": "ipython",
    "version": 3
   },
   "file_extension": ".py",
   "mimetype": "text/x-python",
   "name": "python",
   "nbconvert_exporter": "python",
   "pygments_lexer": "ipython3",
   "version": "3.9.12"
  }
 },
 "nbformat": 4,
 "nbformat_minor": 5
}
