{
 "cells": [
  {
   "cell_type": "code",
   "execution_count": 2,
   "id": "c8454188-1b88-4959-9c03-7b329a628fcc",
   "metadata": {},
   "outputs": [
    {
     "name": "stderr",
     "output_type": "stream",
     "text": [
      "/Users/imseongbin/miniforge3/envs/ml_for_everyone/lib/python3.9/site-packages/tqdm/auto.py:22: TqdmWarning: IProgress not found. Please update jupyter and ipywidgets. See https://ipywidgets.readthedocs.io/en/stable/user_install.html\n",
      "  from .autonotebook import tqdm as notebook_tqdm\n"
     ]
    },
    {
     "name": "stdout",
     "output_type": "stream",
     "text": [
      "2.8.0\n"
     ]
    }
   ],
   "source": [
    "import tensorflow as tf\n",
    "import tensorflow_datasets as tfds\n",
    "import numpy as np\n",
    "\n",
    "print(tf.__version__)"
   ]
  },
  {
   "cell_type": "code",
   "execution_count": 3,
   "id": "605c7cdc-37e0-4343-b8bd-88dc9ff8e871",
   "metadata": {},
   "outputs": [
    {
     "name": "stdout",
     "output_type": "stream",
     "text": [
      "Metal device set to: Apple M1\n"
     ]
    },
    {
     "name": "stderr",
     "output_type": "stream",
     "text": [
      "2022-05-19 03:23:32.808185: I tensorflow/core/common_runtime/pluggable_device/pluggable_device_factory.cc:305] Could not identify NUMA node of platform GPU ID 0, defaulting to 0. Your kernel may not have been built with NUMA support.\n",
      "2022-05-19 03:23:32.808492: I tensorflow/core/common_runtime/pluggable_device/pluggable_device_factory.cc:271] Created TensorFlow device (/job:localhost/replica:0/task:0/device:GPU:0 with 0 MB memory) -> physical PluggableDevice (device: 0, name: METAL, pci bus id: <undefined>)\n"
     ]
    }
   ],
   "source": [
    "# 데이터 분류는 학습과 연관되지 않은 데이터를 검증, 테스트용에 사용해야한다. (Wild한 상황을 반영해야하기 때문)\n",
    "train_x = np.arange(100).reshape(-1, 1)\n",
    "train_y = 3 * train_x + 1\n",
    "\n",
    "train_validation_ds = tf.data.Dataset.from_tensor_slices((train_x, train_y))\n",
    "\n",
    "n_train_validation = 100\n",
    "train_ratio = 0.8\n",
    "n_train = int(n_train_validation * train_ratio)\n",
    "\n",
    "train_ds = train_validation_ds.take(n_train) # 전체 데이터에서 80%만큼 학습데이터로 지정\n"
   ]
  },
  {
   "cell_type": "code",
   "execution_count": 10,
   "id": "ee2031db-5226-444a-84c0-bb2ef650dca5",
   "metadata": {},
   "outputs": [
    {
     "name": "stdout",
     "output_type": "stream",
     "text": [
      "tf.Tensor([80], shape=(1,), dtype=int64)\n",
      "tf.Tensor([81], shape=(1,), dtype=int64)\n",
      "tf.Tensor([82], shape=(1,), dtype=int64)\n",
      "tf.Tensor([83], shape=(1,), dtype=int64)\n",
      "tf.Tensor([84], shape=(1,), dtype=int64)\n",
      "tf.Tensor([85], shape=(1,), dtype=int64)\n",
      "tf.Tensor([86], shape=(1,), dtype=int64)\n",
      "tf.Tensor([87], shape=(1,), dtype=int64)\n",
      "tf.Tensor([88], shape=(1,), dtype=int64)\n",
      "tf.Tensor([89], shape=(1,), dtype=int64)\n",
      "tf.Tensor([90], shape=(1,), dtype=int64)\n",
      "tf.Tensor([91], shape=(1,), dtype=int64)\n",
      "tf.Tensor([92], shape=(1,), dtype=int64)\n",
      "tf.Tensor([93], shape=(1,), dtype=int64)\n",
      "tf.Tensor([94], shape=(1,), dtype=int64)\n",
      "tf.Tensor([95], shape=(1,), dtype=int64)\n",
      "tf.Tensor([96], shape=(1,), dtype=int64)\n",
      "tf.Tensor([97], shape=(1,), dtype=int64)\n",
      "tf.Tensor([98], shape=(1,), dtype=int64)\n",
      "tf.Tensor([99], shape=(1,), dtype=int64)\n"
     ]
    }
   ],
   "source": [
    "train_x = np.arange(100).reshape(-1, 1)\n",
    "train_y = 3 * train_x + 1\n",
    "\n",
    "train_validation_ds = tf.data.Dataset.from_tensor_slices((train_x, train_y))\n",
    "\n",
    "n_train_validation = 100 # 데이터의 전체개수와\n",
    "train_ratio = 0.8 # 얼마만큼 나눌 것인지의 비율을 알아야 나눌 수 있다.\n",
    "n_train = int(n_train_validation * train_ratio)\n",
    "n_validation = n_train_validation - n_train\n",
    "\n",
    "remaining_ds = train_validation_ds.skip(n_train) \n",
    "validation_ds = remaining_ds.take(n_validation)\n",
    "\n",
    "for x, y in validation_ds:\n",
    "    print(x)"
   ]
  },
  {
   "cell_type": "code",
   "execution_count": 5,
   "id": "12528028-d804-4bd9-a66c-540fef64d6ea",
   "metadata": {},
   "outputs": [],
   "source": [
    "(train_validation_ds, test_ds), ds_info = tfds.load(name='mnist',\n",
    "                                                    shuffle_files=True,\n",
    "                                                    as_supervised=True,\n",
    "                                                    with_info=True,\n",
    "                                                    split=['train', 'test'])\n",
    "\n",
    "n_train_validation = ds_info.splits['train'].num_examples\n",
    "train_ratio = 0.8\n",
    "n_train = int(n_train_validation * train_ratio)\n",
    "n_validation = n_train_validation - n_train\n",
    "\n",
    "train_ds = remaining_ds.take(n_train)\n",
    "remaining_ds = train_validation_ds.skip(n_train)\n",
    "validation_ds = remaining_ds.take(n_validation)\n",
    "\n",
    "train_ds = train_ds.shuffle(100).batch(32)\n",
    "validation_ds = validation_ds.batch(32)\n",
    "test_ds = test_ds.batch(32)"
   ]
  },
  {
   "cell_type": "code",
   "execution_count": null,
   "id": "f3d6d62c-0135-47d9-b55a-8ab7a9bc4334",
   "metadata": {},
   "outputs": [],
   "source": []
  }
 ],
 "metadata": {
  "kernelspec": {
   "display_name": "ml_for_everyone",
   "language": "python",
   "name": "ml_for_everyone"
  },
  "language_info": {
   "codemirror_mode": {
    "name": "ipython",
    "version": 3
   },
   "file_extension": ".py",
   "mimetype": "text/x-python",
   "name": "python",
   "nbconvert_exporter": "python",
   "pygments_lexer": "ipython3",
   "version": "3.9.12"
  }
 },
 "nbformat": 4,
 "nbformat_minor": 5
}
