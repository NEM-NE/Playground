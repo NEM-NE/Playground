{
 "cells": [
  {
   "cell_type": "code",
   "execution_count": 1,
   "id": "4cdda49c-4700-48de-a999-8b5bfeca0ec1",
   "metadata": {},
   "outputs": [
    {
     "name": "stdout",
     "output_type": "stream",
     "text": [
      "2.8.0\n"
     ]
    }
   ],
   "source": [
    "import tensorflow as tf\n",
    "import numpy as np\n",
    "\n",
    "print(tf.__version__)"
   ]
  },
  {
   "cell_type": "code",
   "execution_count": 6,
   "id": "d48d4feb-19ec-4db9-a70e-1f17450e2b13",
   "metadata": {},
   "outputs": [
    {
     "name": "stdout",
     "output_type": "stream",
     "text": [
      "<BatchDataset element_spec=(TensorSpec(shape=(None, 1), dtype=tf.float32, name=None), TensorSpec(shape=(None, 1), dtype=tf.float32, name=None))>\n",
      "(32, 1) (32, 1) \n",
      "\n",
      "(32, 1) (32, 1) \n",
      "\n",
      "(32, 1) (32, 1) \n",
      "\n",
      "(4, 1) (4, 1) \n",
      "\n"
     ]
    }
   ],
   "source": [
    "train_x = np.arange(100).astype(np.float32).reshape(-1, 1)\n",
    "train_y = 3 * train_x + 1\n",
    "\n",
    "train_ds = tf.data.Dataset.from_tensor_slices((train_x, train_y))\n",
    "# tensor로 변형해주어 셔플같은 기능을 사용할 수 있음\n",
    "train_ds = train_ds.shuffle(10).batch(32)\n",
    "\n",
    "print(train_ds)\n",
    "\n",
    "for x, y in train_ds:\n",
    "    print(x.shape, y.shape, '\\n')"
   ]
  },
  {
   "cell_type": "code",
   "execution_count": 12,
   "id": "1b81ba23-8689-4cef-bac1-55eefa7c9c3a",
   "metadata": {},
   "outputs": [],
   "source": [
    "import matplotlib.pyplot as plt\n",
    "\n",
    "from tensorflow.keras.datasets import mnist\n",
    "from tensorflow.data import Dataset"
   ]
  },
  {
   "cell_type": "code",
   "execution_count": 16,
   "id": "2f05a260-1897-4e31-a37b-32fb3facfd06",
   "metadata": {},
   "outputs": [],
   "source": [
    "(train_images, train_labels), (test_images, test_labels) = mnist.load_data()\n",
    "\n",
    "train_ds = Dataset.from_tensor_slices((train_images, train_labels))\n",
    "train_ds = train_ds.shuffle(60000).batch(9)\n",
    "\n",
    "test_ds = Dataset.from_tensor_slices((test_images, test_labels))\n",
    "test_ds = train_ds.batch(9)\n"
   ]
  },
  {
   "cell_type": "code",
   "execution_count": 35,
   "id": "e303a765-54ea-4f8c-b4ea-b37fc36e7271",
   "metadata": {},
   "outputs": [
    {
     "data": {
      "image/png": "[encoded data removed]",
      "text/plain": [
       "<Figure size 720x720 with 9 Axes>"
      ]
     },
     "metadata": {
      "needs_background": "light"
     },
     "output_type": "display_data"
    }
   ],
   "source": [
    "fig, axes = plt.subplots(3, 3, figsize=(10, 10))\n",
    "\n",
    "train_ds_iter = iter(train_ds)\n",
    "images, labels = next(train_ds_iter)\n",
    "\n",
    "for ax_idx, ax in enumerate(axes.flat):\n",
    "    image = images[ax_idx, ...]\n",
    "    label = labels[ax_idx]\n",
    "    \n",
    "    # numpy()로 변환\n",
    "    ax.imshow(image.numpy(), 'gray')\n",
    "    ax.set_title(label.numpy(), fontsize=20)\n",
    "\n",
    "    ax.get_xaxis().set_visible(False)\n",
    "    ax.get_yaxis().set_visible(False)"
   ]
  }
 ],
 "metadata": {
  "kernelspec": {
   "display_name": "ml_for_everyone",
   "language": "python",
   "name": "ml_for_everyone"
  },
  "language_info": {
   "codemirror_mode": {
    "name": "ipython",
    "version": 3
   },
   "file_extension": ".py",
   "mimetype": "text/x-python",
   "name": "python",
   "nbconvert_exporter": "python",
   "pygments_lexer": "ipython3",
   "version": "3.9.12"
  }
 },
 "nbformat": 4,
 "nbformat_minor": 5
}
