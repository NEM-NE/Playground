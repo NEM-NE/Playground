{
 "cells": [
  {
   "cell_type": "code",
   "execution_count": 6,
   "id": "d75dc098",
   "metadata": {},
   "outputs": [
    {
     "name": "stdout",
     "output_type": "stream",
     "text": [
      "2.8.0\n"
     ]
    }
   ],
   "source": [
    "import tensorflow as tf\n",
    "import numpy as np\n",
    "print(tf.__version__)"
   ]
  },
  {
   "cell_type": "code",
   "execution_count": 5,
   "id": "29cb1de2",
   "metadata": {},
   "outputs": [
    {
     "name": "stdout",
     "output_type": "stream",
     "text": [
      "<tf.Variable 'Variable:0' shape=(3,) dtype=int32, numpy=array([1, 2, 3], dtype=int32)>\n",
      "tf.Tensor([1 2 3], shape=(3,), dtype=int32)\n",
      "=========\n",
      "<class 'tensorflow.python.ops.resource_variable_ops.ResourceVariable'>\n",
      "<class 'tensorflow.python.framework.ops.EagerTensor'>\n"
     ]
    }
   ],
   "source": [
    "t1 = tf.Variable([1, 2, 3])\n",
    "t2 = tf.constant([1, 2, 3])\n",
    "\n",
    "print(t1)\n",
    "print(t2)\n",
    "\n",
    "print(\"=========\")\n",
    "\n",
    "print(type(t1))\n",
    "print(type(t2))"
   ]
  },
  {
   "cell_type": "markdown",
   "id": "8e3e3e3d",
   "metadata": {},
   "source": [
    "\n",
    "### Variable\n",
    "<tf.Variable 'Variable:0' shape=(3,) dtype=int32, numpy=array([1, 2, 3], dtype=int32)>\n",
    "\n",
    "<class 'tensorflow.python.ops.resource_variable_ops.ResourceVariable'>\n",
    "\n",
    "### constant\n",
    "tf.Tensor([1 2 3], shape=(3,), dtype=int32)\n",
    "\n",
    "<class 'tensorflow.python.framework.ops.EagerTensor'>\n",
    "\n",
    "\n",
    "Variable은 변화하는 값이기 때문에 가중치나 편향 값에 사용\n",
    "\n",
    "Constant는 불변성을 가지기 때문에 데이터셋에 있는 값에 사용"
   ]
  },
  {
   "cell_type": "code",
   "execution_count": 7,
   "id": "fff82ade",
   "metadata": {},
   "outputs": [
    {
     "name": "stdout",
     "output_type": "stream",
     "text": [
      "tf.Tensor([1 2 3], shape=(3,), dtype=int32)\n",
      "tf.Tensor([1 2 3], shape=(3,), dtype=int64)\n",
      "=========\n",
      "<class 'tensorflow.python.framework.ops.EagerTensor'>\n",
      "<class 'tensorflow.python.framework.ops.EagerTensor'>\n"
     ]
    }
   ],
   "source": [
    "test_list = [1, 2, 3]\n",
    "test_np = np.array([1, 2, 3])\n",
    "\n",
    "t1 = tf.constant(test_list)\n",
    "t2 = tf.constant(test_np)\n",
    "\n",
    "print(t1)\n",
    "print(t2)\n",
    "\n",
    "print(\"=========\")\n",
    "\n",
    "print(type(t1))\n",
    "print(type(t2))"
   ]
  },
  {
   "cell_type": "code",
   "execution_count": 13,
   "id": "3dd07843",
   "metadata": {},
   "outputs": [
    {
     "name": "stdout",
     "output_type": "stream",
     "text": [
      "<tf.Variable 'Variable:0' shape=(3,) dtype=int32, numpy=array([1, 2, 3], dtype=int32)>\n"
     ]
    }
   ],
   "source": [
    "t1 = tf.constant(test_list)\n",
    "t2 = tf.Variable(test_list)\n",
    "\n",
    "# 상수 -> 변수 형변환은 되지만 변수 -> 상수 형변환 X\n",
    "# t3 = tf.constant(t2)\n",
    "t4 = tf.Variable(t1)\n",
    "\n",
    "print(t4)"
   ]
  },
  {
   "cell_type": "code",
   "execution_count": 14,
   "id": "78b8890d",
   "metadata": {},
   "outputs": [
    {
     "name": "stdout",
     "output_type": "stream",
     "text": [
      "<class 'tensorflow.python.framework.ops.EagerTensor'>\n",
      "<class 'tensorflow.python.framework.ops.EagerTensor'>\n",
      "=================\n",
      "<class 'tensorflow.python.ops.resource_variable_ops.ResourceVariable'>\n",
      "<class 'tensorflow.python.framework.ops.EagerTensor'>\n"
     ]
    }
   ],
   "source": [
    "t1 = tf.convert_to_tensor(test_list)\n",
    "t2 = tf.convert_to_tensor(test_np)\n",
    "\n",
    "print(type(t1))\n",
    "print(type(t2))\n",
    "\n",
    "print(\"=================\")\n",
    "\n",
    "t3 = tf.Variable(test_list)\n",
    "# convert_to_tensor를 통해 변수 -> 상수 형변환을 해줄 수 있음\n",
    "t4 = tf.convert_to_tensor(t3)\n",
    "\n",
    "print(type(t3))\n",
    "print(type(t4))"
   ]
  },
  {
   "cell_type": "code",
   "execution_count": 16,
   "id": "e72e0016",
   "metadata": {},
   "outputs": [
    {
     "name": "stdout",
     "output_type": "stream",
     "text": [
      "<class 'tensorflow.python.framework.ops.EagerTensor'>\n",
      "<class 'tensorflow.python.framework.ops.EagerTensor'>\n",
      "['SaveSliceInfo', '_OverloadAllOperators', '_OverloadOperator', '_TensorConversionFunction', '__abs__', '__add__', '__and__', '__array__', '__array_priority__', '__bool__', '__class__', '__complex__', '__copy__', '__deepcopy__', '__delattr__', '__dict__', '__dir__', '__div__', '__doc__', '__eq__', '__float__', '__floordiv__', '__format__', '__ge__', '__getattribute__', '__getitem__', '__gt__', '__hash__', '__iadd__', '__idiv__', '__imul__', '__init__', '__init_subclass__', '__int__', '__invert__', '__ipow__', '__irealdiv__', '__isub__', '__iter__', '__itruediv__', '__le__', '__long__', '__lt__', '__matmul__', '__mod__', '__module__', '__mul__', '__ne__', '__neg__', '__new__', '__nonzero__', '__or__', '__pow__', '__radd__', '__rand__', '__rdiv__', '__reduce__', '__reduce_ex__', '__repr__', '__rfloordiv__', '__rmatmul__', '__rmod__', '__rmul__', '__ror__', '__rpow__', '__rsub__', '__rtruediv__', '__rxor__', '__setattr__', '__sizeof__', '__str__', '__sub__', '__subclasshook__', '__tf_function_cache_spec__', '__tf_resource_id__', '__tf_tracing_type__', '__truediv__', '__weakref__', '__xor__', '_add_trackable_child', '_add_variable_with_custom_getter', '_aggregation', '_as_graph_element', '_assign_dependencies', '_cached_shape_as_list', '_cached_value', '_caching_device', '_checkpoint_dependencies', '_constraint', '_deferred_dependencies', '_dense_var_to_tensor', '_deserialization_dependencies', '_deserialize_from_proto', '_distribute_strategy', '_dtype', '_gather_saveables_for_checkpoint', '_get_legacy_saved_model_children', '_get_save_slice_info', '_graph_element', '_graph_key', '_handle', '_handle_deferred_dependencies', '_handle_deleter', '_handle_name', '_in_graph_mode', '_init_from_args', '_init_from_proto', '_initial_value', '_initializer_op', '_is_initialized_op', '_lazy_read', '_list_extra_dependencies_for_serialization', '_list_functions_for_serialization', '_lookup_dependency', '_map_resources', '_maybe_initialize_trackable', '_name_based_attribute_restore', '_name_based_restores', '_no_dependency', '_object_identifier', '_preload_simple_restoration', '_read_variable_op', '_restore_from_checkpoint_position', '_save_slice_info', '_serialize_to_proto', '_set_save_slice_info', '_setattr_tracking', '_shape', '_shape_as_list', '_shape_tuple', '_shared_name', '_single_restoration_from_checkpoint_position', '_strided_slice_assign', '_synchronization', '_tf_api_names', '_tf_api_names_v1', '_track_trackable', '_trackable_children', '_trainable', '_unconditional_checkpoint_dependencies', '_unconditional_dependency_names', '_unique_id', '_update_uid', '_write_object_proto', 'aggregation', 'assign', 'assign_add', 'assign_sub', 'batch_scatter_update', 'constraint', 'count_up_to', 'create', 'device', 'dtype', 'eval', 'experimental_ref', 'from_proto', 'gather_nd', 'get_shape', 'graph', 'handle', 'initial_value', 'initialized_value', 'initializer', 'is_initialized', 'load', 'name', 'numpy', 'op', 'read_value', 'ref', 'scatter_add', 'scatter_div', 'scatter_max', 'scatter_min', 'scatter_mul', 'scatter_nd_add', 'scatter_nd_max', 'scatter_nd_min', 'scatter_nd_sub', 'scatter_nd_update', 'scatter_sub', 'scatter_update', 'set_shape', 'shape', 'sparse_read', 'synchronization', 'to_proto', 'trainable', 'value']\n"
     ]
    }
   ],
   "source": [
    "test_list1 = [10, 20, 30]\n",
    "test_list2 = [1, 2, 3]\n",
    "\n",
    "t1 = tf.constant(test_list1)\n",
    "t2 = tf.Variable(test_list2)\n",
    "\n",
    "t3 = t1 + t2\n",
    "print(type(t3)) # constant타입이 나온다\n",
    "\n",
    "t1 = tf.Variable(test_list1)\n",
    "t2 = tf.Variable(test_list2)\n",
    "\n",
    "t3 = t1 + t2\n",
    "print(type(t3)) # constant타입이 나온다\n",
    "\n",
    "print(dir(t1)) # 내부 메서드 확인"
   ]
  }
 ],
 "metadata": {
  "kernelspec": {
   "display_name": "ml_for_everyone",
   "language": "python",
   "name": "ml_for_everyone"
  },
  "language_info": {
   "codemirror_mode": {
    "name": "ipython",
    "version": 3
   },
   "file_extension": ".py",
   "mimetype": "text/x-python",
   "name": "python",
   "nbconvert_exporter": "python",
   "pygments_lexer": "ipython3",
   "version": "3.9.12"
  }
 },
 "nbformat": 4,
 "nbformat_minor": 5
}
