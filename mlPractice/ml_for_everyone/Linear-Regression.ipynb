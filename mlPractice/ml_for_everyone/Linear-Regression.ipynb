{
 "cells": [
  {
   "cell_type": "code",
   "execution_count": 1,
   "id": "5769d0d0",
   "metadata": {},
   "outputs": [
    {
     "name": "stdout",
     "output_type": "stream",
     "text": [
      "2.8.0\n"
     ]
    }
   ],
   "source": [
    "import tensorflow as tf\n",
    "import numpy as np\n",
    "\n",
    "print(tf.__version__)"
   ]
  },
  {
   "cell_type": "code",
   "execution_count": 5,
   "id": "e2ed47bf",
   "metadata": {},
   "outputs": [
    {
     "name": "stdout",
     "output_type": "stream",
     "text": [
      "    0 |      46.6311\n",
      "   50 |      46.6311\n",
      "  100 |      46.6311\n",
      "  150 |      46.6311\n",
      "  200 |      46.6311\n",
      "  250 |      46.6311\n",
      "  300 |      46.6311\n",
      "  350 |      46.6311\n",
      "  400 |      46.6311\n",
      "  450 |      46.6311\n",
      "  500 |      46.6311\n",
      "  550 |      46.6311\n",
      "  600 |      46.6311\n",
      "  650 |      46.6311\n",
      "  700 |      46.6311\n",
      "  750 |      46.6311\n",
      "  800 |      46.6311\n",
      "  850 |      46.6311\n",
      "  900 |      46.6311\n",
      "  950 |      46.6311\n",
      " 1000 |      46.6311\n"
     ]
    }
   ],
   "source": [
    "x1 = [73, 93, 89, 90, 73]\n",
    "y = [152, 185, 180, 196, 142]\n",
    "\n",
    "w1 = tf.Variable(tf.random.normal([1]))\n",
    "b = tf.Variable(tf.random.normal([1]))\n",
    "\n",
    "learning_rate = 0.00001\n",
    "\n",
    "for i in range(1001):\n",
    "    with tf.GradientTape() as tape:\n",
    "        hypothesis = w1 * x1 + b\n",
    "        loss = tf.reduce_mean(tf.square(hypothesis - y))\n",
    "    w1_grad, b_grad = tape.gradient(loss, [w1, b])\n",
    "    \n",
    "    #optimizer - backpropagation\n",
    "    w1.assign_sub(learning_rate * w1_grad)\n",
    "    b.assign_sub(learning_rate * b_grad)\n",
    "    \n",
    "    if i % 50 == 0:\n",
    "        print(\"{:5} | {:12.4f}\".format(i, cost.numpy()))"
   ]
  },
  {
   "cell_type": "markdown",
   "id": "e7587b28",
   "metadata": {},
   "source": [
    "## 메서드 설명\n",
    "\n",
    "tf.Variable => tf 변수 생성\n",
    "\n",
    "tf.random.normal =>\n",
    "\n",
    "tf.GradientTape() =>\n",
    "\n",
    "tf.reduce_mean() =>\n",
    "\n",
    "tf.square() =>\n",
    "\n",
    "tape.gradient() =>\n",
    "\n",
    "w1.assign_sub() =>\n",
    "\n",
    "cost.numpy() =>\n"
   ]
  }
 ],
 "metadata": {
  "kernelspec": {
   "display_name": "ml_for_everyone",
   "language": "python",
   "name": "ml_for_everyone"
  },
  "language_info": {
   "codemirror_mode": {
    "name": "ipython",
    "version": 3
   },
   "file_extension": ".py",
   "mimetype": "text/x-python",
   "name": "python",
   "nbconvert_exporter": "python",
   "pygments_lexer": "ipython3",
   "version": "3.9.12"
  }
 },
 "nbformat": 4,
 "nbformat_minor": 5
}
